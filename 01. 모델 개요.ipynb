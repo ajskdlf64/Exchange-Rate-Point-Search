{
 "cells": [
  {
   "cell_type": "markdown",
   "metadata": {},
   "source": [
    "# Anomaly Detection을 활용한 외화 매입 시점 탐색"
   ]
  },
  {
   "cell_type": "markdown",
   "metadata": {},
   "source": [
    "### 1. 관련 자료"
   ]
  },
  {
   "cell_type": "markdown",
   "metadata": {},
   "source": [
    "- **1.1 인터넷 블로그 및 사이트**\n",
    "\n",
    "  - **1.1.1 [이상 감지 - ANOMALY DETECTION](http://intothedata.com/02.scholar_category/anomaly_detection)**\n",
    "  - **1.1.2 [회귀분석을 이용한 시계열 데이터 이상 탐지](https://brunch.co.kr/@gimmesilver/4)** \n",
    "  - **1.1.3 [시계열데이터의 이상탐지를 위한 패키지](https://daewonyoon.tistory.com/m/289)**\n",
    "  - **1.1.4 [쉽게 이해하는 시계열데이터 비정상탐지](https://blog.ex-em.com/m/1146)**\n",
    "  - **1.1.5 [이상탐지 Anomaly Detection](https://h3imdallr.github.io/2017-06-20/anomaly_detection/)**\n",
    "  \n",
    "  \n",
    "- **1.2 관련 논문**\n",
    "  - **1.2.1 [논문 01](http://intothedata.com/02.scholar_category/anomaly_detection)**"
   ]
  },
  {
   "cell_type": "markdown",
   "metadata": {},
   "source": [
    "### 2. 모델 개발시 주의사항"
   ]
  },
  {
   "cell_type": "markdown",
   "metadata": {},
   "source": [
    " - **2.1 실질적인 평가지표**\n",
    "   - 회귀 문제의 경우 단순 RMSE, MAPE 등의 지표나, 분류 문제의 경우 Accuracy, F1-score 등이 아닌 실질적으로 회사의 수익구조를 계산할 수 있는 지표가 필요함.\n",
    "   - ex) 매수 시도 기간을 1년이라고 잡았을 때, 그 1년 동안 하루에 1달러씩 샀을때의 가격 대비, 특정 시점에 매수를 몰아서 할경우의 차익.\n",
    "   - ex) 매수 시도 기간을 1년이라고 잡았을 때, 그 1년 중 가장 환율이 낮았던 날을 기준으로 220달러(시장이 1년에 225일 열린다고 가정)를 샀을 때와의 차익.\n",
    "   \n",
    "   \n",
    " - **2.2 매수 시스템에 대한 정보**\n",
    "   - 기업에서 요구하는 매수 시스템이 일주일마다 일정금액을 매입하는지, 1년 동안 목표 금액을 매입하는지에 대한 정보를 알고 있어야 그에 맞는 보다 세밀한 모델 수립이 가능."
   ]
  },
  {
   "cell_type": "markdown",
   "metadata": {},
   "source": [
    "### 3. Model  Process"
   ]
  }
 ],
 "metadata": {
  "kernelspec": {
   "display_name": "Python 3",
   "language": "python",
   "name": "python3"
  },
  "language_info": {
   "codemirror_mode": {
    "name": "ipython",
    "version": 3
   },
   "file_extension": ".py",
   "mimetype": "text/x-python",
   "name": "python",
   "nbconvert_exporter": "python",
   "pygments_lexer": "ipython3",
   "version": "3.6.9"
  }
 },
 "nbformat": 4,
 "nbformat_minor": 2
}
