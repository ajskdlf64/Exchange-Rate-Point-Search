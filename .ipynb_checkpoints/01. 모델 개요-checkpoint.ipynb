{
 "cells": [
  {
   "cell_type": "markdown",
   "metadata": {},
   "source": [
    "# Anomaly Detection을 활용한 외화 매입 시점 탐색"
   ]
  },
  {
   "cell_type": "markdown",
   "metadata": {},
   "source": [
    "### 1. 관련 자료"
   ]
  },
  {
   "cell_type": "markdown",
   "metadata": {},
   "source": [
    "- **1.1 인터넷 블로그 및 사이트**\n",
    "\n",
    "  - **1.1.1 [이상 감지 - ANOMALY DETECTION](http://intothedata.com/02.scholar_category/anomaly_detection)**\n",
    "  - **1.1.2 [회귀분석을 이용한 시계열 데이터 이상 탐지](https://brunch.co.kr/@gimmesilver/4)** \n",
    "  - **1.1.3 [시계열데이터의 이상탐지를 위한 패키지](https://daewonyoon.tistory.com/m/289)**\n",
    "  - **1.1.4 [쉽게 이해하는 시계열데이터 비정상탐지](https://blog.ex-em.com/m/1146)**\n",
    "  - **1.1.5 [이상탐지 Anomaly Detection](https://h3imdallr.github.io/2017-06-20/anomaly_detection/)**\n",
    "  \n",
    "  \n",
    "- **1.2 관련 논문**\n",
    "  - **1.2.1 [SOM을 이용한 주기신호의 이상탐지 및 시각화](https://github.com/ajskdlf64/Project-Anomaly-Detection-For-Exchange-Rate/blob/master/%EC%B0%B8%EA%B3%A0%EC%9E%90%EB%A3%8C/SOM%EC%9D%84%20%EC%9D%B4%EC%9A%A9%ED%95%9C%20%EC%A3%BC%EA%B8%B0%EC%8B%A0%ED%98%B8%EC%9D%98%20%EC%9D%B4%EC%83%81%ED%83%90%EC%A7%80%20%EB%B0%8F%20%EC%8B%9C%EA%B0%81%ED%99%94.pdf)**\n",
    "  - **1.2.2 [다변량 시계열데이터 집단 상호간의 주성분 정보 비교를 통한 이상 예측](https://github.com/ajskdlf64/Project-Anomaly-Detection-For-Exchange-Rate/blob/master/%EC%B0%B8%EA%B3%A0%EC%9E%90%EB%A3%8C/%EB%8B%A4%EB%B3%80%EB%9F%89%20%EC%8B%9C%EA%B3%84%EC%97%B4%EB%8D%B0%EC%9D%B4%ED%84%B0%20%EC%A7%91%EB%8B%A8%20%EC%83%81%ED%98%B8%EA%B0%84%EC%9D%98%20%EC%A3%BC%EC%84%B1%EB%B6%84%20%EC%A0%95%EB%B3%B4%20%EB%B9%84%EA%B5%90%EB%A5%BC%20%ED%86%B5%ED%95%9C%20%EC%9D%B4%EC%83%81%20%EC%98%88%EC%B8%A1.pdf)**\n",
    "  - **1.2.3 [시계열 모델 기반 트래픽 이상 징후 탐지 기법에 관한 연구](https://github.com/ajskdlf64/Project-Anomaly-Detection-For-Exchange-Rate/blob/master/%EC%B0%B8%EA%B3%A0%EC%9E%90%EB%A3%8C/%EC%8B%9C%EA%B3%84%EC%97%B4%20%EB%AA%A8%EB%8D%B8%20%EA%B8%B0%EB%B0%98%20%ED%8A%B8%EB%9E%98%ED%94%BD%20%EC%9D%B4%EC%83%81%20%EC%A7%95%ED%9B%84%20%ED%83%90%EC%A7%80%20%EA%B8%B0%EB%B2%95%EC%97%90%20%EA%B4%80%ED%95%9C%20%EC%97%B0%EA%B5%AC.pdf)**\n",
    "  - **1.2.4 [시계열 분석을 이용한 Netflow 기반의 DDoS 공격 탐지](https://github.com/ajskdlf64/Project-Anomaly-Detection-For-Exchange-Rate/blob/master/%EC%B0%B8%EA%B3%A0%EC%9E%90%EB%A3%8C/%EC%8B%9C%EA%B3%84%EC%97%B4%20%EB%B6%84%EC%84%9D%EC%9D%84%20%EC%9D%B4%EC%9A%A9%ED%95%9C%20Netflow%20%EA%B8%B0%EB%B0%98%EC%9D%98%20DDoS%20%EA%B3%B5%EA%B2%A9%20%ED%83%90%EC%A7%80.pdf)**\n",
    "  - **1.2.5 [시계열을 따르는 공정데이터의 모델 모수기반 이상탐지](https://github.com/ajskdlf64/Project-Anomaly-Detection-For-Exchange-Rate/blob/master/%EC%B0%B8%EA%B3%A0%EC%9E%90%EB%A3%8C/%EC%8B%9C%EA%B3%84%EC%97%B4%EC%9D%84%20%EB%94%B0%EB%A5%B4%EB%8A%94%20%EA%B3%B5%EC%A0%95%EB%8D%B0%EC%9D%B4%ED%84%B0%EC%9D%98%20%EB%AA%A8%EB%8D%B8%20%EB%AA%A8%EC%88%98%EA%B8%B0%EB%B0%98%20%EC%9D%B4%EC%83%81%ED%83%90%EC%A7%80.pdf)**\n",
    "  - **1.2.6 [정규분포를 따르지 않는 비선형 데이터를 위한 모델기반 이상탐지](https://github.com/ajskdlf64/Project-Anomaly-Detection-For-Exchange-Rate/blob/master/%EC%B0%B8%EA%B3%A0%EC%9E%90%EB%A3%8C/%EC%A0%95%EA%B7%9C%EB%B6%84%ED%8F%AC%EB%A5%BC%20%EB%94%B0%EB%A5%B4%EC%A7%80%20%EC%95%8A%EB%8A%94%20%EB%B9%84%EC%84%A0%ED%98%95%20%EB%8D%B0%EC%9D%B4%ED%84%B0%EB%A5%BC%20%EC%9C%84%ED%95%9C%20%EB%AA%A8%EB%8D%B8%EA%B8%B0%EB%B0%98%20%EC%9D%B4%EC%83%81%ED%83%90%EC%A7%80.pdf)**"
   ]
  },
  {
   "cell_type": "markdown",
   "metadata": {},
   "source": [
    "### 2. 모델 개발시 주의사항"
   ]
  },
  {
   "cell_type": "markdown",
   "metadata": {},
   "source": [
    " - **2.1 실질적인 평가지표**\n",
    "   - 회귀 문제의 경우 단순 RMSE, MAPE 등의 지표나, 분류 문제의 경우 Accuracy, F1-score 등이 아닌 실질적으로 회사의 수익구조를 계산할 수 있는 지표가 필요함.\n",
    "   - ex) 매수 시도 기간을 1년이라고 잡았을 때, 그 1년 동안 하루에 1달러씩 샀을때의 가격 대비, 특정 시점에 매수를 몰아서 할경우의 차익.\n",
    "   - ex) 매수 시도 기간을 1년이라고 잡았을 때, 그 1년 중 가장 환율이 낮았던 날을 기준으로 220달러(시장이 1년에 225일 열린다고 가정)를 샀을 때와의 차익.\n",
    "   \n",
    "   \n",
    " - **2.2 매수 시스템에 대한 정보**\n",
    "   - 기업에서 요구하는 매수 시스템이 일주일마다 일정금액을 매입하는지, 1년 동안 목표 금액을 매입하는지에 대한 정보를 알고 있어야 그에 맞는 보다 세밀한 모델 수립이 가능."
   ]
  },
  {
   "cell_type": "markdown",
   "metadata": {},
   "source": [
    "### 3. Model  Process"
   ]
  }
 ],
 "metadata": {
  "kernelspec": {
   "display_name": "Python 3",
   "language": "python",
   "name": "python3"
  },
  "language_info": {
   "codemirror_mode": {
    "name": "ipython",
    "version": 3
   },
   "file_extension": ".py",
   "mimetype": "text/x-python",
   "name": "python",
   "nbconvert_exporter": "python",
   "pygments_lexer": "ipython3",
   "version": "3.6.9"
  }
 },
 "nbformat": 4,
 "nbformat_minor": 2
}
