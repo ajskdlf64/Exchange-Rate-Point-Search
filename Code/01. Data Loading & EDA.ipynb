{
 "cells": [
  {
   "cell_type": "markdown",
   "metadata": {},
   "source": [
    "### 1. Library"
   ]
  },
  {
   "cell_type": "code",
   "execution_count": 1,
   "metadata": {},
   "outputs": [],
   "source": [
    "import numpy as np\n",
    "import pandas as pd\n",
    "import matplotlib.pyplot as plt\n",
    "import seaborn as sns"
   ]
  },
  {
   "cell_type": "markdown",
   "metadata": {},
   "source": [
    "### 2. Data Load"
   ]
  },
  {
   "cell_type": "code",
   "execution_count": 2,
   "metadata": {},
   "outputs": [],
   "source": [
    "set1 = pd.read_csv('../data/set01.csv') ; set1 = set1.set_index('Date')\n",
    "set2 = pd.read_csv('../data/set02.csv') ; set2 = set2.set_index('Date')\n",
    "set3 = pd.read_csv('../data/set03.csv') ; set3 = set3.set_index('Date')\n",
    "set4 = pd.read_csv('../data/set04.csv') ; set4 = set4.set_index('Date')\n",
    "set5 = pd.read_csv('../data/set05.csv') ; set5 = set5.set_index('Date')\n",
    "set6 = pd.read_csv('../data/set06.csv') ; set6 = set6.set_index('Date')\n",
    "set7 = pd.read_csv('../data/set07.csv') ; set7 = set7.set_index('Date')\n",
    "set8 = pd.read_csv('../data/set08.csv') ; set8 = set8.set_index('Date')\n",
    "set9 = pd.read_csv('../data/set09.csv') ; set9 = set9.set_index('Date')\n",
    "set10 = pd.read_csv('../data/set10.csv') ; set10 = set10.set_index('Date')\n",
    "set11 = pd.read_csv('../data/set11.csv') ; set11 = set11.set_index('Date')\n",
    "set12 = pd.read_csv('../data/set12.csv') ; set12 = set12.set_index('Date')"
   ]
  },
  {
   "cell_type": "markdown",
   "metadata": {},
   "source": [
    "### 3. 정기매입법 가격"
   ]
  },
  {
   "cell_type": "code",
   "execution_count": 3,
   "metadata": {},
   "outputs": [
    {
     "name": "stdout",
     "output_type": "stream",
     "text": [
      "1년 동안 매일 1달러씩 매입하면 285,334.69999999995원\n"
     ]
    }
   ],
   "source": [
    "regular = np.sum(set1['2019-02-01':]).values[0] +\\\n",
    "          np.sum(set2['2019-03-01':]).values[0] +\\\n",
    "          np.sum(set3['2019-04-01':]).values[0] +\\\n",
    "          np.sum(set4['2019-05-01':]).values[0] +\\\n",
    "          np.sum(set5['2019-06-01':]).values[0] +\\\n",
    "          np.sum(set6['2019-07-01':]).values[0] +\\\n",
    "          np.sum(set7['2019-08-01':]).values[0] +\\\n",
    "          np.sum(set8['2019-09-01':]).values[0] +\\\n",
    "          np.sum(set9['2019-10-01':]).values[0] +\\\n",
    "          np.sum(set10['2019-11-01':]).values[0] +\\\n",
    "          np.sum(set11['2019-12-01':]).values[0] +\\\n",
    "          np.sum(set12['2020-01-01':]).values[0]\n",
    "\n",
    "print('1년 동안 매일 1달러씩 매입하면 {:,}원' .format(regular))"
   ]
  },
  {
   "cell_type": "markdown",
   "metadata": {},
   "source": [
    "### 4. 매달 최저가로 구매"
   ]
  },
  {
   "cell_type": "code",
   "execution_count": 4,
   "metadata": {},
   "outputs": [
    {
     "name": "stdout",
     "output_type": "stream",
     "text": [
      "1년 동안 매달 최저가로만 매입하면 : 282,634.2원\n"
     ]
    }
   ],
   "source": [
    "min_regular = len(set1['2019-02-01':]) * set1['2019-02-01':].min().values[0] +\\\n",
    "              len(set2['2019-03-01':]) * set2['2019-03-01':].min().values[0] +\\\n",
    "              len(set3['2019-04-01':]) * set3['2019-04-01':].min().values[0] +\\\n",
    "              len(set4['2019-05-01':]) * set4['2019-05-01':].min().values[0] +\\\n",
    "              len(set5['2019-06-01':]) * set5['2019-06-01':].min().values[0] +\\\n",
    "              len(set6['2019-07-01':]) * set6['2019-07-01':].min().values[0] +\\\n",
    "              len(set7['2019-08-01':]) * set7['2019-08-01':].min().values[0] +\\\n",
    "              len(set8['2019-09-01':]) * set8['2019-09-01':].min().values[0] +\\\n",
    "              len(set9['2019-10-01':]) * set9['2019-10-01':].min().values[0] +\\\n",
    "              len(set10['2019-11-01':]) * set10['2019-11-01':].min().values[0] +\\\n",
    "              len(set11['2019-12-01':]) * set11['2019-12-01':].min().values[0] +\\\n",
    "              len(set12['2020-01-01':]) * set12['2020-01-01':].min().values[0]\n",
    " \n",
    "print('1년 동안 매달 최저가로만 매입하면 : {:,}원' .format(min_regular))"
   ]
  },
  {
   "cell_type": "markdown",
   "metadata": {},
   "source": [
    "### 5. 매달 최저가로 구매시의 이익"
   ]
  },
  {
   "cell_type": "code",
   "execution_count": 5,
   "metadata": {},
   "outputs": [
    {
     "name": "stdout",
     "output_type": "stream",
     "text": [
      "매달 최저가로 구매시의 이익 : 0.9464%\n"
     ]
    }
   ],
   "source": [
    "print('매달 최저가로 구매시의 이익 : {:.4f}%' .format(((regular - min_regular) / regular) * 100))"
   ]
  },
  {
   "cell_type": "markdown",
   "metadata": {},
   "source": [
    "### 6. 1년 중 최저가로 한번에 전부다 매입시 "
   ]
  },
  {
   "cell_type": "code",
   "execution_count": 6,
   "metadata": {},
   "outputs": [
    {
     "name": "stdout",
     "output_type": "stream",
     "text": [
      "1년 중 최저가로 한 번에 매입하면 : 272,342.0원\n"
     ]
    }
   ],
   "source": [
    "min_year = pd.concat([set1['2019-02-01':], set2['2019-03-01':], set3['2019-04-01':], set4['2019-05-01':],\n",
    "                      set5['2019-06-01':], set6['2019-07-01':], set7['2019-08-01':], set8['2019-09-01':], \n",
    "                      set9['2019-10-01':], set10['2019-11-01':], set11['2019-12-01':], set12['2020-01-01':]])\n",
    "\n",
    "year = min_year.min().values[0] * len(min_year)\n",
    "print('1년 중 최저가로 한 번에 매입하면 : {:,}원' .format(year))"
   ]
  },
  {
   "cell_type": "code",
   "execution_count": 14,
   "metadata": {},
   "outputs": [
    {
     "name": "stdout",
     "output_type": "stream",
     "text": [
      "1년 중 최저가로 구매시의 이익 : 4.5535%\n"
     ]
    }
   ],
   "source": [
    "print('1년 중 최저가로 구매시의 이익 : {:.4f}%' .format((regular-year)/regular*100))"
   ]
  }
 ],
 "metadata": {
  "kernelspec": {
   "display_name": "Python 3",
   "language": "python",
   "name": "python3"
  },
  "language_info": {
   "codemirror_mode": {
    "name": "ipython",
    "version": 3
   },
   "file_extension": ".py",
   "mimetype": "text/x-python",
   "name": "python",
   "nbconvert_exporter": "python",
   "pygments_lexer": "ipython3",
   "version": "3.6.8"
  }
 },
 "nbformat": 4,
 "nbformat_minor": 2
}
