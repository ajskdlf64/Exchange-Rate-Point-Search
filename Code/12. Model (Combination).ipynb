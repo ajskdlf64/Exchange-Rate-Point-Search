{
 "cells": [
  {
   "cell_type": "markdown",
   "metadata": {},
   "source": [
    "### 01. Loading Data"
   ]
  },
  {
   "cell_type": "code",
   "execution_count": 1,
   "metadata": {},
   "outputs": [],
   "source": [
    "# Loading\n",
    "import pandas as pd\n",
    "data = pd.read_csv('../data/Dataset.csv')"
   ]
  },
  {
   "cell_type": "code",
   "execution_count": 2,
   "metadata": {},
   "outputs": [],
   "source": [
    "# Columns Setting\n",
    "data.columns = ['DATE','AED', 'AUD', 'BHD', 'CAD', 'CHF', 'CNH', 'DKK', 'EUR',\n",
    "                'GBP', 'HKD', 'IDR(100)', 'JPY(100)', 'KWD', 'MYR', 'NOK', 'NZD', 'SAR',\n",
    "                'SEK', 'SGD', 'THB', 'USD', 'BITCOIN', 'TETHER', 'KOSPI200', 'KOSDAQ',\n",
    "                'SAMSUNG', 'S&P500', 'DOWJONES', 'NASDAQ', 'MICROSOFT', 'APPLE',\n",
    "                'US_LIBOR', 'KOR_LIBOR', 'US_BOND_RATE_1YEARS', 'US_BOND_RATE_2YEARS',\n",
    "                'US_BOND_RATE_10YEARS', 'HYUNDAI_CAR', 'IEF_US', 'GLD_US', 'HSI',\n",
    "                'NAVER', 'SK_HYNIX', 'AMAZON', 'TESLA', 'NIKKEI', 'FTSE',\n",
    "                'ETHEREUM', 'ETHEREUM_CLASSIC', 'EOS', 'RIPPLE', 'STELLA']"
   ]
  },
  {
   "cell_type": "code",
   "execution_count": 3,
   "metadata": {},
   "outputs": [],
   "source": [
    "# Index Setting\n",
    "data = data.set_index('DATE')"
   ]
  },
  {
   "cell_type": "code",
   "execution_count": 4,
   "metadata": {},
   "outputs": [],
   "source": [
    "# Columns order\n",
    "data = data[['USD', 'AED', 'AUD', 'BHD', 'CAD', 'CHF', 'CNH', 'DKK', 'EUR','GBP', 'HKD',\n",
    "             'IDR(100)', 'JPY(100)', 'KWD', 'MYR', 'NOK', 'NZD', 'SAR', 'SEK', 'SGD', 'THB',\n",
    "             \n",
    "             'US_BOND_RATE_1YEARS', 'US_BOND_RATE_2YEARS', 'US_BOND_RATE_10YEARS',\n",
    "             'US_LIBOR', 'KOR_LIBOR', 'IEF_US', 'GLD_US',\n",
    "             \n",
    "             'KOSPI200', 'KOSDAQ', 'S&P500', 'DOWJONES', 'NASDAQ', 'HSI', 'NIKKEI', 'FTSE',\n",
    "            \n",
    "             'MICROSOFT', 'APPLE', 'SAMSUNG', 'HYUNDAI_CAR', 'NAVER', 'SK_HYNIX', 'AMAZON', 'TESLA',\n",
    "            \n",
    "             'BITCOIN', 'TETHER', 'ETHEREUM', 'ETHEREUM_CLASSIC', 'EOS', 'RIPPLE', 'STELLA']]"
   ]
  },
  {
   "cell_type": "markdown",
   "metadata": {},
   "source": [
    "### 03. Data Shift"
   ]
  },
  {
   "cell_type": "code",
   "execution_count": 5,
   "metadata": {},
   "outputs": [],
   "source": [
    "# 데이터 shift 및 라벨링\n",
    "data['USD_1'] = data['USD'].shift(-1)\n",
    "data['Target'] = data['USD_1'] - data['USD'] * 1.001\n",
    "data['Target'] = data['Target'].apply(lambda x : 'UP' if x > 0 else 'DOWN')\n",
    "data = data.dropna()"
   ]
  },
  {
   "cell_type": "code",
   "execution_count": 6,
   "metadata": {},
   "outputs": [],
   "source": [
    "# USD Omit\n",
    "del data['USD']\n",
    "del data['USD_1']"
   ]
  },
  {
   "cell_type": "markdown",
   "metadata": {},
   "source": [
    "### 04. Train Test Split"
   ]
  },
  {
   "cell_type": "code",
   "execution_count": 7,
   "metadata": {},
   "outputs": [],
   "source": [
    "train = data['2018-01-01':'2019-08-31']\n",
    "valid = data['2019-09-01':'2019-10-31']\n",
    "test = data['2019-11-01':'2019-12-31']"
   ]
  },
  {
   "cell_type": "markdown",
   "metadata": {},
   "source": [
    "### 05. X, y"
   ]
  },
  {
   "cell_type": "code",
   "execution_count": 8,
   "metadata": {},
   "outputs": [],
   "source": [
    "train_X = train[train.columns[:-1]]\n",
    "train_y = train[train.columns[-1:]]"
   ]
  },
  {
   "cell_type": "code",
   "execution_count": 9,
   "metadata": {},
   "outputs": [],
   "source": [
    "valid_X = valid[valid.columns[:-1]]\n",
    "valid_y = valid[valid.columns[-1:]]"
   ]
  },
  {
   "cell_type": "code",
   "execution_count": 10,
   "metadata": {},
   "outputs": [],
   "source": [
    "test_X = test[test.columns[:-1]]\n",
    "test_y = test[test.columns[-1:]]"
   ]
  },
  {
   "cell_type": "markdown",
   "metadata": {},
   "source": [
    "### 06. Reshape to Numpy Array : 4개의 데이터프레임을 모두 Numpy 배열로 변경."
   ]
  },
  {
   "cell_type": "code",
   "execution_count": 11,
   "metadata": {},
   "outputs": [],
   "source": [
    "import numpy as np\n",
    "train_X = np.array(train_X)\n",
    "train_y = np.array(train_y)\n",
    "valid_X = np.array(valid_X)\n",
    "valid_y = np.array(valid_y)\n",
    "test_X = np.array(test_X)\n",
    "test_y = np.array(test_y)"
   ]
  },
  {
   "cell_type": "markdown",
   "metadata": {},
   "source": [
    "### 정규화"
   ]
  },
  {
   "cell_type": "code",
   "execution_count": 12,
   "metadata": {},
   "outputs": [],
   "source": [
    "mean = train_X.mean(axis=0)\n",
    "train_X -= mean\n",
    "std = train_X.std(axis=0)\n",
    "train_X /= std\n",
    "valid_X -= mean\n",
    "valid_X /= std\n",
    "test_X -= mean\n",
    "test_X /= std"
   ]
  },
  {
   "cell_type": "code",
   "execution_count": 13,
   "metadata": {},
   "outputs": [],
   "source": [
    "# XGBoost Build\n",
    "from xgboost import XGBClassifier\n",
    "model = XGBClassifier(objective='binary:logistic', random_state=0)"
   ]
  },
  {
   "cell_type": "code",
   "execution_count": 14,
   "metadata": {},
   "outputs": [
    {
     "name": "stderr",
     "output_type": "stream",
     "text": [
      "/usr/local/lib/python3.6/dist-packages/sklearn/preprocessing/_label.py:235: DataConversionWarning: A column-vector y was passed when a 1d array was expected. Please change the shape of y to (n_samples, ), for example using ravel().\n",
      "  y = column_or_1d(y, warn=True)\n",
      "/usr/local/lib/python3.6/dist-packages/sklearn/preprocessing/_label.py:268: DataConversionWarning: A column-vector y was passed when a 1d array was expected. Please change the shape of y to (n_samples, ), for example using ravel().\n",
      "  y = column_or_1d(y, warn=True)\n"
     ]
    },
    {
     "data": {
      "text/plain": [
       "XGBClassifier(base_score=0.5, booster='gbtree', colsample_bylevel=1,\n",
       "              colsample_bynode=1, colsample_bytree=1, gamma=0,\n",
       "              learning_rate=0.1, max_delta_step=0, max_depth=3,\n",
       "              min_child_weight=1, missing=None, n_estimators=100, n_jobs=1,\n",
       "              nthread=None, objective='binary:logistic', random_state=0,\n",
       "              reg_alpha=0, reg_lambda=1, scale_pos_weight=1, seed=None,\n",
       "              silent=None, subsample=1, verbosity=1)"
      ]
     },
     "execution_count": 14,
     "metadata": {},
     "output_type": "execute_result"
    }
   ],
   "source": [
    "# Model Fitting\n",
    "model.fit(train_X, train_y, eval_set=[(valid_X, valid_y)], early_stopping_rounds=50,verbose=0)"
   ]
  },
  {
   "cell_type": "code",
   "execution_count": 15,
   "metadata": {},
   "outputs": [
    {
     "name": "stdout",
     "output_type": "stream",
     "text": [
      "Train ACC = 0.6791\n",
      "Test ACC = 0.4595\n"
     ]
    }
   ],
   "source": [
    "# Acc Check\n",
    "from sklearn.metrics import accuracy_score\n",
    "print('Train ACC = {:.4f}' .format(accuracy_score(train_y, model.predict(train_X))))\n",
    "print('Test ACC = {:.4f}' .format(accuracy_score(test_y, model.predict(test_X))))"
   ]
  },
  {
   "cell_type": "code",
   "execution_count": 16,
   "metadata": {},
   "outputs": [
    {
     "data": {
      "text/plain": [
       "array(['UP', 'UP', 'UP', 'UP', 'UP', 'UP', 'UP', 'UP', 'UP', 'UP', 'UP',\n",
       "       'UP', 'UP', 'UP', 'UP', 'UP', 'UP', 'UP', 'UP', 'UP', 'DOWN',\n",
       "       'DOWN', 'DOWN', 'DOWN', 'DOWN', 'DOWN', 'DOWN', 'DOWN', 'DOWN',\n",
       "       'DOWN', 'DOWN', 'UP', 'UP', 'UP', 'UP', 'UP', 'DOWN'], dtype=object)"
      ]
     },
     "execution_count": 16,
     "metadata": {},
     "output_type": "execute_result"
    }
   ],
   "source": [
    "model.predict(test_X)"
   ]
  }
 ],
 "metadata": {
  "kernelspec": {
   "display_name": "Python 3",
   "language": "python",
   "name": "python3"
  },
  "language_info": {
   "codemirror_mode": {
    "name": "ipython",
    "version": 3
   },
   "file_extension": ".py",
   "mimetype": "text/x-python",
   "name": "python",
   "nbconvert_exporter": "python",
   "pygments_lexer": "ipython3",
   "version": "3.6.8"
  }
 },
 "nbformat": 4,
 "nbformat_minor": 4
}
