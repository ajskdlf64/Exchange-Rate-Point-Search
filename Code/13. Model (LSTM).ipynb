{
 "cells": [
  {
   "cell_type": "markdown",
   "metadata": {},
   "source": [
    "### Data Loading\n",
    "\n",
    "이 데이터셋에는 2010년 1월부터 2020년 1월까지의 약 10년간의 환율 가격이 저장되어 있는 데이터셋이다. 최근 데이터(몇 일치 데이터 포인트)를 입력을 사용하여 모델을 만들고 1일 뒤의 달러 가격을 예측하는 모델을 만든다."
   ]
  },
  {
   "cell_type": "code",
   "execution_count": 1,
   "metadata": {},
   "outputs": [],
   "source": [
    "import pandas as pd\n",
    "data = pd.read_csv('../data/DAILY_DATA.csv')"
   ]
  },
  {
   "cell_type": "markdown",
   "metadata": {},
   "source": [
    "### Set Index\n",
    "\n",
    "데이터셋의 Index는 날짜를 사용한다."
   ]
  },
  {
   "cell_type": "code",
   "execution_count": 2,
   "metadata": {},
   "outputs": [],
   "source": [
    "data = data.set_index('date')"
   ]
  },
  {
   "cell_type": "markdown",
   "metadata": {},
   "source": [
    "### Feature Selecting : CAD, CHF, EUR, GBP, JPY(100), USD\n",
    "\n",
    "사용할 데이터 : 캐나다 달러, 스위스 프랑, 유로, 영국 파운드, 일본 옌화, 미국 달러"
   ]
  },
  {
   "cell_type": "code",
   "execution_count": 3,
   "metadata": {},
   "outputs": [],
   "source": [
    "data = data.dropna(axis=1)"
   ]
  },
  {
   "cell_type": "code",
   "execution_count": 4,
   "metadata": {},
   "outputs": [
    {
     "data": {
      "text/html": [
       "<div>\n",
       "<style scoped>\n",
       "    .dataframe tbody tr th:only-of-type {\n",
       "        vertical-align: middle;\n",
       "    }\n",
       "\n",
       "    .dataframe tbody tr th {\n",
       "        vertical-align: top;\n",
       "    }\n",
       "\n",
       "    .dataframe thead th {\n",
       "        text-align: right;\n",
       "    }\n",
       "</style>\n",
       "<table border=\"1\" class=\"dataframe\">\n",
       "  <thead>\n",
       "    <tr style=\"text-align: right;\">\n",
       "      <th></th>\n",
       "      <th>CAD</th>\n",
       "      <th>CHF</th>\n",
       "      <th>EUR</th>\n",
       "      <th>GBP</th>\n",
       "      <th>JPY(100)</th>\n",
       "      <th>USD</th>\n",
       "    </tr>\n",
       "    <tr>\n",
       "      <th>date</th>\n",
       "      <th></th>\n",
       "      <th></th>\n",
       "      <th></th>\n",
       "      <th></th>\n",
       "      <th></th>\n",
       "      <th></th>\n",
       "    </tr>\n",
       "  </thead>\n",
       "  <tbody>\n",
       "    <tr>\n",
       "      <th>2010-01-04</th>\n",
       "      <td>1110.15</td>\n",
       "      <td>1128.17</td>\n",
       "      <td>1673.46</td>\n",
       "      <td>1883.46</td>\n",
       "      <td>1256.50</td>\n",
       "      <td>1161.0</td>\n",
       "    </tr>\n",
       "    <tr>\n",
       "      <th>2010-01-05</th>\n",
       "      <td>1109.76</td>\n",
       "      <td>1122.31</td>\n",
       "      <td>1665.97</td>\n",
       "      <td>1860.44</td>\n",
       "      <td>1250.96</td>\n",
       "      <td>1147.3</td>\n",
       "    </tr>\n",
       "    <tr>\n",
       "      <th>2010-01-06</th>\n",
       "      <td>1101.19</td>\n",
       "      <td>1106.67</td>\n",
       "      <td>1643.96</td>\n",
       "      <td>1829.39</td>\n",
       "      <td>1248.35</td>\n",
       "      <td>1141.4</td>\n",
       "    </tr>\n",
       "    <tr>\n",
       "      <th>2010-01-07</th>\n",
       "      <td>1102.69</td>\n",
       "      <td>1107.41</td>\n",
       "      <td>1639.52</td>\n",
       "      <td>1822.54</td>\n",
       "      <td>1232.35</td>\n",
       "      <td>1132.0</td>\n",
       "    </tr>\n",
       "    <tr>\n",
       "      <th>2010-01-08</th>\n",
       "      <td>1095.51</td>\n",
       "      <td>1095.46</td>\n",
       "      <td>1621.38</td>\n",
       "      <td>1804.73</td>\n",
       "      <td>1211.91</td>\n",
       "      <td>1134.1</td>\n",
       "    </tr>\n",
       "    <tr>\n",
       "      <th>...</th>\n",
       "      <td>...</td>\n",
       "      <td>...</td>\n",
       "      <td>...</td>\n",
       "      <td>...</td>\n",
       "      <td>...</td>\n",
       "      <td>...</td>\n",
       "    </tr>\n",
       "    <tr>\n",
       "      <th>2020-01-23</th>\n",
       "      <td>886.78</td>\n",
       "      <td>1203.86</td>\n",
       "      <td>1292.74</td>\n",
       "      <td>1530.94</td>\n",
       "      <td>1060.87</td>\n",
       "      <td>1165.1</td>\n",
       "    </tr>\n",
       "    <tr>\n",
       "      <th>2020-01-28</th>\n",
       "      <td>884.81</td>\n",
       "      <td>1203.42</td>\n",
       "      <td>1286.20</td>\n",
       "      <td>1524.01</td>\n",
       "      <td>1071.37</td>\n",
       "      <td>1167.2</td>\n",
       "    </tr>\n",
       "    <tr>\n",
       "      <th>2020-01-29</th>\n",
       "      <td>893.84</td>\n",
       "      <td>1209.35</td>\n",
       "      <td>1296.84</td>\n",
       "      <td>1532.65</td>\n",
       "      <td>1078.30</td>\n",
       "      <td>1176.7</td>\n",
       "    </tr>\n",
       "    <tr>\n",
       "      <th>2020-01-30</th>\n",
       "      <td>890.94</td>\n",
       "      <td>1208.01</td>\n",
       "      <td>1294.95</td>\n",
       "      <td>1530.80</td>\n",
       "      <td>1078.45</td>\n",
       "      <td>1176.0</td>\n",
       "    </tr>\n",
       "    <tr>\n",
       "      <th>2020-01-31</th>\n",
       "      <td>895.95</td>\n",
       "      <td>1220.80</td>\n",
       "      <td>1305.76</td>\n",
       "      <td>1549.02</td>\n",
       "      <td>1086.68</td>\n",
       "      <td>1183.5</td>\n",
       "    </tr>\n",
       "  </tbody>\n",
       "</table>\n",
       "<p>2494 rows × 6 columns</p>\n",
       "</div>"
      ],
      "text/plain": [
       "                CAD      CHF      EUR      GBP  JPY(100)     USD\n",
       "date                                                            \n",
       "2010-01-04  1110.15  1128.17  1673.46  1883.46   1256.50  1161.0\n",
       "2010-01-05  1109.76  1122.31  1665.97  1860.44   1250.96  1147.3\n",
       "2010-01-06  1101.19  1106.67  1643.96  1829.39   1248.35  1141.4\n",
       "2010-01-07  1102.69  1107.41  1639.52  1822.54   1232.35  1132.0\n",
       "2010-01-08  1095.51  1095.46  1621.38  1804.73   1211.91  1134.1\n",
       "...             ...      ...      ...      ...       ...     ...\n",
       "2020-01-23   886.78  1203.86  1292.74  1530.94   1060.87  1165.1\n",
       "2020-01-28   884.81  1203.42  1286.20  1524.01   1071.37  1167.2\n",
       "2020-01-29   893.84  1209.35  1296.84  1532.65   1078.30  1176.7\n",
       "2020-01-30   890.94  1208.01  1294.95  1530.80   1078.45  1176.0\n",
       "2020-01-31   895.95  1220.80  1305.76  1549.02   1086.68  1183.5\n",
       "\n",
       "[2494 rows x 6 columns]"
      ]
     },
     "execution_count": 4,
     "metadata": {},
     "output_type": "execute_result"
    }
   ],
   "source": [
    "data"
   ]
  },
  {
   "cell_type": "markdown",
   "metadata": {},
   "source": [
    "### 데이터 정규화하기\n",
    "\n",
    "데이터의 스케일을 조정하기 위해서, 각 시계열 특성에 대해 평균을 빼고, 표준편차로 나누어 전처리한다. 평균과 표준편차에 대해서는 Train Dataset 의 값에 대해서 적용한다."
   ]
  },
  {
   "cell_type": "code",
   "execution_count": 5,
   "metadata": {},
   "outputs": [],
   "source": [
    "mean = data[:'2019-01-31'].mean(axis=0)\n",
    "data -= mean\n",
    "std = data[:'2019-01-31'].std(axis=0)\n",
    "data /= std"
   ]
  },
  {
   "cell_type": "code",
   "execution_count": 6,
   "metadata": {
    "scrolled": false
   },
   "outputs": [
    {
     "data": {
      "text/html": [
       "<div>\n",
       "<style scoped>\n",
       "    .dataframe tbody tr th:only-of-type {\n",
       "        vertical-align: middle;\n",
       "    }\n",
       "\n",
       "    .dataframe tbody tr th {\n",
       "        vertical-align: top;\n",
       "    }\n",
       "\n",
       "    .dataframe thead th {\n",
       "        text-align: right;\n",
       "    }\n",
       "</style>\n",
       "<table border=\"1\" class=\"dataframe\">\n",
       "  <thead>\n",
       "    <tr style=\"text-align: right;\">\n",
       "      <th></th>\n",
       "      <th>CAD</th>\n",
       "      <th>CHF</th>\n",
       "      <th>EUR</th>\n",
       "      <th>GBP</th>\n",
       "      <th>JPY(100)</th>\n",
       "      <th>USD</th>\n",
       "    </tr>\n",
       "    <tr>\n",
       "      <th>date</th>\n",
       "      <th></th>\n",
       "      <th></th>\n",
       "      <th></th>\n",
       "      <th></th>\n",
       "      <th></th>\n",
       "      <th></th>\n",
       "    </tr>\n",
       "  </thead>\n",
       "  <tbody>\n",
       "    <tr>\n",
       "      <th>2010-01-04</th>\n",
       "      <td>1.071298</td>\n",
       "      <td>-0.749567</td>\n",
       "      <td>2.522397</td>\n",
       "      <td>1.541616</td>\n",
       "      <td>0.649398</td>\n",
       "      <td>0.974741</td>\n",
       "    </tr>\n",
       "    <tr>\n",
       "      <th>2010-01-05</th>\n",
       "      <td>1.067966</td>\n",
       "      <td>-0.856923</td>\n",
       "      <td>2.456423</td>\n",
       "      <td>1.377437</td>\n",
       "      <td>0.618800</td>\n",
       "      <td>0.662687</td>\n",
       "    </tr>\n",
       "    <tr>\n",
       "      <th>2010-01-06</th>\n",
       "      <td>0.994741</td>\n",
       "      <td>-1.143450</td>\n",
       "      <td>2.262554</td>\n",
       "      <td>1.155987</td>\n",
       "      <td>0.604385</td>\n",
       "      <td>0.528298</td>\n",
       "    </tr>\n",
       "    <tr>\n",
       "      <th>2010-01-07</th>\n",
       "      <td>1.007558</td>\n",
       "      <td>-1.129893</td>\n",
       "      <td>2.223445</td>\n",
       "      <td>1.107132</td>\n",
       "      <td>0.516016</td>\n",
       "      <td>0.314188</td>\n",
       "    </tr>\n",
       "    <tr>\n",
       "      <th>2010-01-08</th>\n",
       "      <td>0.946210</td>\n",
       "      <td>-1.348819</td>\n",
       "      <td>2.063664</td>\n",
       "      <td>0.980110</td>\n",
       "      <td>0.403125</td>\n",
       "      <td>0.362021</td>\n",
       "    </tr>\n",
       "    <tr>\n",
       "      <th>...</th>\n",
       "      <td>...</td>\n",
       "      <td>...</td>\n",
       "      <td>...</td>\n",
       "      <td>...</td>\n",
       "      <td>...</td>\n",
       "      <td>...</td>\n",
       "    </tr>\n",
       "    <tr>\n",
       "      <th>2020-01-23</th>\n",
       "      <td>-0.837239</td>\n",
       "      <td>0.637084</td>\n",
       "      <td>-0.831078</td>\n",
       "      <td>-0.972571</td>\n",
       "      <td>-0.431076</td>\n",
       "      <td>1.068130</td>\n",
       "    </tr>\n",
       "    <tr>\n",
       "      <th>2020-01-28</th>\n",
       "      <td>-0.854071</td>\n",
       "      <td>0.629023</td>\n",
       "      <td>-0.888684</td>\n",
       "      <td>-1.021996</td>\n",
       "      <td>-0.373084</td>\n",
       "      <td>1.115963</td>\n",
       "    </tr>\n",
       "    <tr>\n",
       "      <th>2020-01-29</th>\n",
       "      <td>-0.776916</td>\n",
       "      <td>0.737662</td>\n",
       "      <td>-0.794964</td>\n",
       "      <td>-0.960375</td>\n",
       "      <td>-0.334809</td>\n",
       "      <td>1.332351</td>\n",
       "    </tr>\n",
       "    <tr>\n",
       "      <th>2020-01-30</th>\n",
       "      <td>-0.801695</td>\n",
       "      <td>0.713113</td>\n",
       "      <td>-0.811612</td>\n",
       "      <td>-0.973570</td>\n",
       "      <td>-0.333981</td>\n",
       "      <td>1.316407</td>\n",
       "    </tr>\n",
       "    <tr>\n",
       "      <th>2020-01-31</th>\n",
       "      <td>-0.758888</td>\n",
       "      <td>0.947427</td>\n",
       "      <td>-0.716394</td>\n",
       "      <td>-0.843624</td>\n",
       "      <td>-0.288526</td>\n",
       "      <td>1.487240</td>\n",
       "    </tr>\n",
       "  </tbody>\n",
       "</table>\n",
       "<p>2494 rows × 6 columns</p>\n",
       "</div>"
      ],
      "text/plain": [
       "                 CAD       CHF       EUR       GBP  JPY(100)       USD\n",
       "date                                                                  \n",
       "2010-01-04  1.071298 -0.749567  2.522397  1.541616  0.649398  0.974741\n",
       "2010-01-05  1.067966 -0.856923  2.456423  1.377437  0.618800  0.662687\n",
       "2010-01-06  0.994741 -1.143450  2.262554  1.155987  0.604385  0.528298\n",
       "2010-01-07  1.007558 -1.129893  2.223445  1.107132  0.516016  0.314188\n",
       "2010-01-08  0.946210 -1.348819  2.063664  0.980110  0.403125  0.362021\n",
       "...              ...       ...       ...       ...       ...       ...\n",
       "2020-01-23 -0.837239  0.637084 -0.831078 -0.972571 -0.431076  1.068130\n",
       "2020-01-28 -0.854071  0.629023 -0.888684 -1.021996 -0.373084  1.115963\n",
       "2020-01-29 -0.776916  0.737662 -0.794964 -0.960375 -0.334809  1.332351\n",
       "2020-01-30 -0.801695  0.713113 -0.811612 -0.973570 -0.333981  1.316407\n",
       "2020-01-31 -0.758888  0.947427 -0.716394 -0.843624 -0.288526  1.487240\n",
       "\n",
       "[2494 rows x 6 columns]"
      ]
     },
     "execution_count": 6,
     "metadata": {},
     "output_type": "execute_result"
    }
   ],
   "source": [
    "data"
   ]
  },
  {
   "cell_type": "markdown",
   "metadata": {},
   "source": [
    "### 데이터의 개수"
   ]
  },
  {
   "cell_type": "code",
   "execution_count": 7,
   "metadata": {},
   "outputs": [
    {
     "name": "stdout",
     "output_type": "stream",
     "text": [
      "Train = 2004\n",
      "Valid = 245\n",
      "Test = 245\n"
     ]
    }
   ],
   "source": [
    "print('Train =',len(data['2010-01-01':'2018-01-31']))\n",
    "print('Valid =',len(data['2018-02-01':'2019-01-31']))\n",
    "print('Test =',len(data['2019-02-01':'2020-01-31']))"
   ]
  },
  {
   "cell_type": "markdown",
   "metadata": {},
   "source": [
    "### 데이터 배열로 바꾸기"
   ]
  },
  {
   "cell_type": "code",
   "execution_count": 8,
   "metadata": {},
   "outputs": [],
   "source": [
    "import numpy as np\n",
    "data = np.array(data)"
   ]
  },
  {
   "cell_type": "code",
   "execution_count": 9,
   "metadata": {},
   "outputs": [
    {
     "data": {
      "text/plain": [
       "array([[ 1.0712981 , -0.74956701,  2.52239695,  1.54161612,  0.64939792,\n",
       "         0.97474118],\n",
       "       [ 1.06796583, -0.856923  ,  2.4564232 ,  1.37743652,  0.61880024,\n",
       "         0.66268655],\n",
       "       [ 0.99474131, -1.14344993,  2.26255375,  1.15598662,  0.60438509,\n",
       "         0.52829806],\n",
       "       ...,\n",
       "       [-0.77691618,  0.73766161, -0.79496392, -0.96037543, -0.33480905,\n",
       "         1.33235124],\n",
       "       [-0.80169461,  0.71311263, -0.8116115 , -0.9735697 , -0.33398059,\n",
       "         1.31640684],\n",
       "       [-0.75888774,  0.94742716, -0.71639438, -0.8436239 , -0.28852591,\n",
       "         1.48723967]])"
      ]
     },
     "execution_count": 9,
     "metadata": {},
     "output_type": "execute_result"
    }
   ],
   "source": [
    "data"
   ]
  },
  {
   "cell_type": "markdown",
   "metadata": {},
   "source": [
    "### 시계열 데이터와 타깃을 반환하는 제너레이터 함수\n",
    "\n",
    "이 제네레이터 함수는 (samples, targets) 튜플을 반복적으로 반환한다. samples는 입력 데이터로 사용한 배치이고 targets는 이에 대응되는 타깃 달러의 배열이다.\n",
    "\n",
    "\n",
    "\n",
    "#### 매개변수\n",
    " - **data** : 정규화한 부동 소수 데이터로 이루어진 원본 배열\n",
    " - **lookback** : 입력으로 사용하기 위해 거슬러 올라갈 타임스텝\n",
    " - **delay** : 타깃으로 사용할 미래의 타임스텝\n",
    " - **min_index, Max_index** : 추출할 타임스텝의 범위를 지정하기 위한 data 배열의 인덱스, 검증 데이터와 테스트 데이터를 분리하는데 사용\n",
    " - **shuffle** : 샘플을 섞을지, 시간 순서대로 추출할지를 결정"
   ]
  },
  {
   "cell_type": "code",
   "execution_count": 10,
   "metadata": {},
   "outputs": [],
   "source": [
    "def generator(data, lookback, delay, min_index, max_index,\n",
    "              shuffle=False, batch_size=128, step=6):\n",
    "    if max_index is None:\n",
    "        max_index = len(data) - delay - 1\n",
    "    i = min_index + lookback\n",
    "    while 1:\n",
    "        if shuffle:\n",
    "            rows = np.random.randint(\n",
    "                min_index + lookback, max_index, size=batch_size)\n",
    "        else:\n",
    "            if i + batch_size >= max_index:\n",
    "                i = min_index + lookback\n",
    "            rows = np.arange(i, min(i + batch_size, max_index))\n",
    "            i += len(rows)\n",
    "\n",
    "        samples = np.zeros((len(rows), lookback // step, data.shape[-1]))\n",
    "        targets = np.zeros((len(rows),))\n",
    "        \n",
    "        for j, row in enumerate(rows):\n",
    "            indices = range(rows[j] - lookback, rows[j], step)\n",
    "            samples[j] = data[indices]\n",
    "            targets[j] = data[rows[j] + delay][-1]\n",
    "        yield samples, targets"
   ]
  },
  {
   "cell_type": "markdown",
   "metadata": {},
   "source": [
    "### 훈련, 검증, 테스트 제네레이터 준비하기\n",
    "\n",
    "**lookback** : 5일전 데이터로 돌아가기\n",
    "\n",
    "**steps** : 1일마다 데이터 포인트 하나를 샘플링\n",
    "\n",
    "**delay** : 1일 후의 데이터가 타깃 데이터"
   ]
  },
  {
   "cell_type": "code",
   "execution_count": 11,
   "metadata": {},
   "outputs": [],
   "source": [
    "lookback = 5\n",
    "step = 1\n",
    "delay = 1\n",
    "batch_size = 49"
   ]
  },
  {
   "cell_type": "code",
   "execution_count": 12,
   "metadata": {},
   "outputs": [],
   "source": [
    "train_gen = generator(data,\n",
    "                      lookback = lookback,\n",
    "                      delay = delay,\n",
    "                      min_index = 0,\n",
    "                      max_index = 2004,\n",
    "                      shuffle = True,\n",
    "                      step = step,\n",
    "                      batch_size = batch_size)"
   ]
  },
  {
   "cell_type": "code",
   "execution_count": 13,
   "metadata": {},
   "outputs": [],
   "source": [
    "val_gen = generator(data,\n",
    "                    lookback = lookback,\n",
    "                    delay = delay,\n",
    "                    min_index = 2005,\n",
    "                    max_index = 2249,\n",
    "                    shuffle = True,\n",
    "                    step = step,\n",
    "                    batch_size = batch_size)"
   ]
  },
  {
   "cell_type": "code",
   "execution_count": 14,
   "metadata": {},
   "outputs": [],
   "source": [
    "test_gen = generator(data,\n",
    "                     lookback = lookback,\n",
    "                     delay = delay,\n",
    "                     min_index = 2250,\n",
    "                     max_index = None,\n",
    "                     shuffle = False,\n",
    "                     step = step,\n",
    "                     batch_size = batch_size)"
   ]
  },
  {
   "cell_type": "code",
   "execution_count": 15,
   "metadata": {},
   "outputs": [],
   "source": [
    "val_steps = (2249 - 2005 - lookback) // batch_size"
   ]
  },
  {
   "cell_type": "code",
   "execution_count": 16,
   "metadata": {},
   "outputs": [],
   "source": [
    "test_steps = (len(data) - 2250 - lookback) // batch_size"
   ]
  },
  {
   "cell_type": "markdown",
   "metadata": {},
   "source": [
    "### 상식적인 기준 모델의 MAE 계산하기"
   ]
  },
  {
   "cell_type": "code",
   "execution_count": 17,
   "metadata": {},
   "outputs": [
    {
     "name": "stdout",
     "output_type": "stream",
     "text": [
      "0.661851745988535\n"
     ]
    }
   ],
   "source": [
    "def evalutate_navie_method() : \n",
    "    batch_maes = []\n",
    "    for step in range(val_steps) : \n",
    "        samples, targets = next(val_gen)\n",
    "        preds = samples[:,-1,1]\n",
    "        mae = np.mean(np.abs(preds-targets))\n",
    "        batch_maes.append(mae)\n",
    "    print(np.mean(batch_maes))\n",
    "    \n",
    "evalutate_navie_method()"
   ]
  },
  {
   "cell_type": "markdown",
   "metadata": {},
   "source": [
    "### 원래 스케일로 변환하기"
   ]
  },
  {
   "cell_type": "code",
   "execution_count": 18,
   "metadata": {},
   "outputs": [
    {
     "data": {
      "text/plain": [
       "27.76275827411528"
      ]
     },
     "execution_count": 18,
     "metadata": {},
     "output_type": "execute_result"
    }
   ],
   "source": [
    "original_mae = 0.6323720729043599 * std[-1]\n",
    "original_mae"
   ]
  },
  {
   "cell_type": "markdown",
   "metadata": {},
   "source": [
    "### 완전 연결 모델을 훈련하고 평가하기"
   ]
  },
  {
   "cell_type": "code",
   "execution_count": 19,
   "metadata": {
    "scrolled": true
   },
   "outputs": [
    {
     "name": "stderr",
     "output_type": "stream",
     "text": [
      "Using TensorFlow backend.\n"
     ]
    },
    {
     "name": "stdout",
     "output_type": "stream",
     "text": [
      "WARNING:tensorflow:From /usr/local/lib/python3.6/dist-packages/keras/backend/tensorflow_backend.py:74: The name tf.get_default_graph is deprecated. Please use tf.compat.v1.get_default_graph instead.\n",
      "\n",
      "WARNING:tensorflow:From /usr/local/lib/python3.6/dist-packages/keras/backend/tensorflow_backend.py:517: The name tf.placeholder is deprecated. Please use tf.compat.v1.placeholder instead.\n",
      "\n",
      "WARNING:tensorflow:From /usr/local/lib/python3.6/dist-packages/keras/backend/tensorflow_backend.py:4138: The name tf.random_uniform is deprecated. Please use tf.random.uniform instead.\n",
      "\n",
      "WARNING:tensorflow:From /usr/local/lib/python3.6/dist-packages/keras/optimizers.py:790: The name tf.train.Optimizer is deprecated. Please use tf.compat.v1.train.Optimizer instead.\n",
      "\n",
      "WARNING:tensorflow:From /usr/local/lib/python3.6/dist-packages/keras/backend/tensorflow_backend.py:986: The name tf.assign_add is deprecated. Please use tf.compat.v1.assign_add instead.\n",
      "\n",
      "WARNING:tensorflow:From /usr/local/lib/python3.6/dist-packages/keras/backend/tensorflow_backend.py:973: The name tf.assign is deprecated. Please use tf.compat.v1.assign instead.\n",
      "\n",
      "Epoch 1/20\n",
      "500/500 [==============================] - 2s 3ms/step - loss: 0.2170 - val_loss: 0.1581\n",
      "Epoch 2/20\n",
      "500/500 [==============================] - 1s 2ms/step - loss: 0.1575 - val_loss: 0.1563\n",
      "Epoch 3/20\n",
      "500/500 [==============================] - 1s 2ms/step - loss: 0.1498 - val_loss: 0.1507\n",
      "Epoch 4/20\n",
      "500/500 [==============================] - 1s 2ms/step - loss: 0.1480 - val_loss: 0.1603\n",
      "Epoch 5/20\n",
      "500/500 [==============================] - 1s 2ms/step - loss: 0.1460 - val_loss: 0.2023\n",
      "Epoch 6/20\n",
      "500/500 [==============================] - 1s 2ms/step - loss: 0.1442 - val_loss: 0.1427\n",
      "Epoch 7/20\n",
      "500/500 [==============================] - 1s 2ms/step - loss: 0.1429 - val_loss: 0.1431\n",
      "Epoch 8/20\n",
      "500/500 [==============================] - 1s 2ms/step - loss: 0.1419 - val_loss: 0.1373\n",
      "Epoch 9/20\n",
      "500/500 [==============================] - 1s 2ms/step - loss: 0.1417 - val_loss: 0.1476\n",
      "Epoch 10/20\n",
      "500/500 [==============================] - 1s 2ms/step - loss: 0.1409 - val_loss: 0.1520\n",
      "Epoch 11/20\n",
      "500/500 [==============================] - 1s 2ms/step - loss: 0.1407 - val_loss: 0.1491\n",
      "Epoch 12/20\n",
      "500/500 [==============================] - 1s 2ms/step - loss: 0.1381 - val_loss: 0.1421\n",
      "Epoch 13/20\n",
      "500/500 [==============================] - 1s 2ms/step - loss: 0.1370 - val_loss: 0.1532\n",
      "Epoch 14/20\n",
      "500/500 [==============================] - 1s 2ms/step - loss: 0.1385 - val_loss: 0.1248\n",
      "Epoch 15/20\n",
      "500/500 [==============================] - 1s 2ms/step - loss: 0.1366 - val_loss: 0.1348\n",
      "Epoch 16/20\n",
      "500/500 [==============================] - 1s 2ms/step - loss: 0.1387 - val_loss: 0.1418\n",
      "Epoch 17/20\n",
      "500/500 [==============================] - 1s 2ms/step - loss: 0.1377 - val_loss: 0.1446\n",
      "Epoch 18/20\n",
      "500/500 [==============================] - 1s 2ms/step - loss: 0.1370 - val_loss: 0.1302\n",
      "Epoch 19/20\n",
      "500/500 [==============================] - 1s 2ms/step - loss: 0.1375 - val_loss: 0.1356\n",
      "Epoch 20/20\n",
      "500/500 [==============================] - 1s 2ms/step - loss: 0.1353 - val_loss: 0.1584\n"
     ]
    }
   ],
   "source": [
    "from keras.models import Sequential\n",
    "from keras import layers\n",
    "from keras.optimizers import RMSprop\n",
    "\n",
    "model = Sequential()\n",
    "model.add(layers.Flatten(input_shape=(lookback//step, data.shape[-1])))\n",
    "model.add(layers.Dense(32, activation='relu'))\n",
    "model.add(layers.Dense(1))\n",
    "model.compile(optimizer=RMSprop(), loss='mae')\n",
    "history = model.fit_generator(train_gen,\n",
    "                              steps_per_epoch=500,\n",
    "                              epochs = 20,\n",
    "                              validation_data=val_gen,\n",
    "                              validation_steps=val_steps)"
   ]
  },
  {
   "cell_type": "markdown",
   "metadata": {},
   "source": [
    "### 결과 그래프 그리기"
   ]
  },
  {
   "cell_type": "code",
   "execution_count": 20,
   "metadata": {},
   "outputs": [
    {
     "data": {
      "image/png": "[encoded data removed]",
      "text/plain": [
       "<Figure size 1152x432 with 1 Axes>"
      ]
     },
     "metadata": {
      "needs_background": "light"
     },
     "output_type": "display_data"
    }
   ],
   "source": [
    "import matplotlib.pyplot as plt\n",
    "\n",
    "loss = history.history['loss']\n",
    "val_loss = history.history['val_loss']\n",
    "\n",
    "epochs = range(1, len(loss)+1)\n",
    "\n",
    "plt.figure(figsize=(16,6))\n",
    "plt.plot(epochs, loss, 'bo', label='Training loss')\n",
    "plt.plot(epochs, val_loss, 'b', label='Validation loss')\n",
    "plt.title('Training and validation loss')\n",
    "plt.legend()\n",
    "plt.show()"
   ]
  },
  {
   "cell_type": "markdown",
   "metadata": {},
   "source": [
    "### GRU를 사용한 모델을 훈련하고 평가하기"
   ]
  },
  {
   "cell_type": "code",
   "execution_count": 21,
   "metadata": {
    "scrolled": true
   },
   "outputs": [
    {
     "name": "stdout",
     "output_type": "stream",
     "text": [
      "WARNING:tensorflow:From /usr/local/lib/python3.6/dist-packages/tensorflow/python/ops/math_grad.py:1250: add_dispatch_support.<locals>.wrapper (from tensorflow.python.ops.array_ops) is deprecated and will be removed in a future version.\n",
      "Instructions for updating:\n",
      "Use tf.where in 2.0, which has the same broadcast rule as np.where\n",
      "Epoch 1/20\n",
      "500/500 [==============================] - 4s 7ms/step - loss: 0.1858 - val_loss: 0.1762\n",
      "Epoch 2/20\n",
      "500/500 [==============================] - 3s 6ms/step - loss: 0.1552 - val_loss: 0.1220\n",
      "Epoch 3/20\n",
      "500/500 [==============================] - 3s 6ms/step - loss: 0.1495 - val_loss: 0.1292\n",
      "Epoch 4/20\n",
      "500/500 [==============================] - 3s 6ms/step - loss: 0.1470 - val_loss: 0.1199\n",
      "Epoch 5/20\n",
      "500/500 [==============================] - 3s 6ms/step - loss: 0.1470 - val_loss: 0.1200\n",
      "Epoch 6/20\n",
      "500/500 [==============================] - 3s 6ms/step - loss: 0.1450 - val_loss: 0.1118\n",
      "Epoch 7/20\n",
      "500/500 [==============================] - 3s 6ms/step - loss: 0.1446 - val_loss: 0.1328\n",
      "Epoch 8/20\n",
      "500/500 [==============================] - 3s 7ms/step - loss: 0.1426 - val_loss: 0.1231\n",
      "Epoch 9/20\n",
      "500/500 [==============================] - 3s 7ms/step - loss: 0.1413 - val_loss: 0.1478\n",
      "Epoch 10/20\n",
      "500/500 [==============================] - 3s 7ms/step - loss: 0.1401 - val_loss: 0.1416\n",
      "Epoch 11/20\n",
      "500/500 [==============================] - 3s 6ms/step - loss: 0.1394 - val_loss: 0.1426\n",
      "Epoch 12/20\n",
      "500/500 [==============================] - 3s 6ms/step - loss: 0.1389 - val_loss: 0.1303\n",
      "Epoch 13/20\n",
      "500/500 [==============================] - 3s 6ms/step - loss: 0.1379 - val_loss: 0.1345\n",
      "Epoch 14/20\n",
      "500/500 [==============================] - 3s 5ms/step - loss: 0.1378 - val_loss: 0.1322\n",
      "Epoch 15/20\n",
      "500/500 [==============================] - 3s 5ms/step - loss: 0.1364 - val_loss: 0.1320\n",
      "Epoch 16/20\n",
      "500/500 [==============================] - 3s 6ms/step - loss: 0.1340 - val_loss: 0.1544\n",
      "Epoch 17/20\n",
      "500/500 [==============================] - 3s 6ms/step - loss: 0.1327 - val_loss: 0.1424\n",
      "Epoch 18/20\n",
      "500/500 [==============================] - 3s 6ms/step - loss: 0.1345 - val_loss: 0.1476\n",
      "Epoch 19/20\n",
      "500/500 [==============================] - 3s 6ms/step - loss: 0.1312 - val_loss: 0.1499\n",
      "Epoch 20/20\n",
      "500/500 [==============================] - 3s 5ms/step - loss: 0.1305 - val_loss: 0.1935\n"
     ]
    }
   ],
   "source": [
    "from keras.models import Sequential\n",
    "from keras import layers\n",
    "from keras.optimizers import RMSprop\n",
    "\n",
    "model = Sequential()\n",
    "model.add(layers.GRU(32, input_shape=(None, data.shape[-1])))\n",
    "model.add(layers.Dense(1))\n",
    "model.compile(optimizer=RMSprop(), loss='mae')\n",
    "history = model.fit_generator(train_gen,\n",
    "                              steps_per_epoch=500,\n",
    "                              epochs=20,\n",
    "                              validation_data=val_gen,\n",
    "                              validation_steps=val_steps)"
   ]
  },
  {
   "cell_type": "code",
   "execution_count": 22,
   "metadata": {},
   "outputs": [
    {
     "data": {
      "image/png": "[encoded data removed]",
      "text/plain": [
       "<Figure size 1152x432 with 1 Axes>"
      ]
     },
     "metadata": {
      "needs_background": "light"
     },
     "output_type": "display_data"
    }
   ],
   "source": [
    "import matplotlib.pyplot as plt\n",
    "\n",
    "loss = history.history['loss']\n",
    "val_loss = history.history['val_loss']\n",
    "\n",
    "epochs = range(1, len(loss)+1)\n",
    "\n",
    "plt.figure(figsize=(16,6))\n",
    "plt.plot(epochs, loss, 'bo', label='Training loss')\n",
    "plt.plot(epochs, val_loss, 'b', label='Validation loss')\n",
    "plt.title('Training and validation loss')\n",
    "plt.legend()\n",
    "plt.show()"
   ]
  },
  {
   "cell_type": "markdown",
   "metadata": {},
   "source": [
    "### 드롭아웃 규제된 GRU를 사용한 모델을 훈련하고 평가하기"
   ]
  },
  {
   "cell_type": "code",
   "execution_count": 23,
   "metadata": {
    "scrolled": true
   },
   "outputs": [
    {
     "name": "stdout",
     "output_type": "stream",
     "text": [
      "WARNING:tensorflow:From /usr/local/lib/python3.6/dist-packages/keras/backend/tensorflow_backend.py:3445: calling dropout (from tensorflow.python.ops.nn_ops) with keep_prob is deprecated and will be removed in a future version.\n",
      "Instructions for updating:\n",
      "Please use `rate` instead of `keep_prob`. Rate should be set to `rate = 1 - keep_prob`.\n",
      "Epoch 1/40\n",
      "500/500 [==============================] - 4s 8ms/step - loss: 0.3075 - val_loss: 0.1555\n",
      "Epoch 2/40\n",
      "500/500 [==============================] - 3s 7ms/step - loss: 0.2812 - val_loss: 0.1511\n",
      "Epoch 3/40\n",
      "500/500 [==============================] - 3s 7ms/step - loss: 0.2682 - val_loss: 0.1506\n",
      "Epoch 4/40\n",
      "500/500 [==============================] - 3s 7ms/step - loss: 0.2559 - val_loss: 0.1454\n",
      "Epoch 5/40\n",
      "500/500 [==============================] - 3s 7ms/step - loss: 0.2327 - val_loss: 0.1395\n",
      "Epoch 6/40\n",
      "500/500 [==============================] - 3s 7ms/step - loss: 0.2159 - val_loss: 0.1442\n",
      "Epoch 7/40\n",
      "500/500 [==============================] - 3s 7ms/step - loss: 0.2027 - val_loss: 0.1375\n",
      "Epoch 8/40\n",
      "500/500 [==============================] - 3s 7ms/step - loss: 0.1967 - val_loss: 0.1447\n",
      "Epoch 9/40\n",
      "500/500 [==============================] - 3s 7ms/step - loss: 0.1935 - val_loss: 0.1587\n",
      "Epoch 10/40\n",
      "500/500 [==============================] - 3s 7ms/step - loss: 0.1916 - val_loss: 0.1571\n",
      "Epoch 11/40\n",
      "500/500 [==============================] - 3s 7ms/step - loss: 0.1870 - val_loss: 0.1487\n",
      "Epoch 12/40\n",
      "500/500 [==============================] - 3s 7ms/step - loss: 0.1866 - val_loss: 0.1643\n",
      "Epoch 13/40\n",
      "500/500 [==============================] - 3s 7ms/step - loss: 0.1844 - val_loss: 0.1562\n",
      "Epoch 14/40\n",
      "500/500 [==============================] - 3s 7ms/step - loss: 0.1830 - val_loss: 0.1252\n",
      "Epoch 15/40\n",
      "500/500 [==============================] - 3s 7ms/step - loss: 0.1805 - val_loss: 0.1563\n",
      "Epoch 16/40\n",
      "500/500 [==============================] - 3s 7ms/step - loss: 0.1807 - val_loss: 0.1450\n",
      "Epoch 17/40\n",
      "500/500 [==============================] - 3s 7ms/step - loss: 0.1778 - val_loss: 0.1703\n",
      "Epoch 18/40\n",
      "500/500 [==============================] - 3s 7ms/step - loss: 0.1762 - val_loss: 0.1360\n",
      "Epoch 19/40\n",
      "500/500 [==============================] - 3s 7ms/step - loss: 0.1745 - val_loss: 0.1569\n",
      "Epoch 20/40\n",
      "500/500 [==============================] - 3s 7ms/step - loss: 0.1752 - val_loss: 0.1297\n",
      "Epoch 21/40\n",
      "500/500 [==============================] - 3s 7ms/step - loss: 0.1744 - val_loss: 0.1716\n",
      "Epoch 22/40\n",
      "500/500 [==============================] - 3s 7ms/step - loss: 0.1735 - val_loss: 0.1486\n",
      "Epoch 23/40\n",
      "500/500 [==============================] - 3s 7ms/step - loss: 0.1739 - val_loss: 0.1686\n",
      "Epoch 24/40\n",
      "500/500 [==============================] - 3s 7ms/step - loss: 0.1711 - val_loss: 0.1460\n",
      "Epoch 25/40\n",
      "500/500 [==============================] - 3s 7ms/step - loss: 0.1724 - val_loss: 0.1415\n",
      "Epoch 26/40\n",
      "500/500 [==============================] - 3s 6ms/step - loss: 0.1694 - val_loss: 0.1401\n",
      "Epoch 27/40\n",
      "500/500 [==============================] - 3s 7ms/step - loss: 0.1676 - val_loss: 0.1525\n",
      "Epoch 28/40\n",
      "500/500 [==============================] - 3s 7ms/step - loss: 0.1668 - val_loss: 0.1524\n",
      "Epoch 29/40\n",
      "500/500 [==============================] - 3s 7ms/step - loss: 0.1667 - val_loss: 0.1599\n",
      "Epoch 30/40\n",
      "500/500 [==============================] - 3s 7ms/step - loss: 0.1652 - val_loss: 0.1561\n",
      "Epoch 31/40\n",
      "500/500 [==============================] - 3s 7ms/step - loss: 0.1653 - val_loss: 0.1533\n",
      "Epoch 32/40\n",
      "500/500 [==============================] - 3s 7ms/step - loss: 0.1633 - val_loss: 0.1777\n",
      "Epoch 33/40\n",
      "500/500 [==============================] - 3s 7ms/step - loss: 0.1646 - val_loss: 0.1303\n",
      "Epoch 34/40\n",
      "500/500 [==============================] - 3s 7ms/step - loss: 0.1625 - val_loss: 0.1537\n",
      "Epoch 35/40\n",
      "500/500 [==============================] - 3s 7ms/step - loss: 0.1606 - val_loss: 0.1340\n",
      "Epoch 36/40\n",
      "500/500 [==============================] - 3s 7ms/step - loss: 0.1600 - val_loss: 0.1597\n",
      "Epoch 37/40\n",
      "500/500 [==============================] - 3s 7ms/step - loss: 0.1608 - val_loss: 0.1473\n",
      "Epoch 38/40\n",
      "500/500 [==============================] - 3s 7ms/step - loss: 0.1603 - val_loss: 0.1498\n",
      "Epoch 39/40\n",
      "500/500 [==============================] - 3s 7ms/step - loss: 0.1605 - val_loss: 0.1410\n",
      "Epoch 40/40\n",
      "500/500 [==============================] - 3s 7ms/step - loss: 0.1610 - val_loss: 0.1592\n"
     ]
    }
   ],
   "source": [
    "from keras.models import Sequential\n",
    "from keras import layers\n",
    "from keras.optimizers import RMSprop\n",
    "\n",
    "model = Sequential()\n",
    "model.add(layers.GRU(32, \n",
    "                     dropout=0.2,\n",
    "                     recurrent_dropout=0.2,\n",
    "                     input_shape=(None, data.shape[-1])))\n",
    "model.add(layers.Dense(1))\n",
    "model.compile(optimizer=RMSprop(), loss='mae')\n",
    "history = model.fit_generator(train_gen,\n",
    "                              steps_per_epoch=500,\n",
    "                              epochs=40,\n",
    "                              validation_data=val_gen,\n",
    "                              validation_steps=val_steps)"
   ]
  },
  {
   "cell_type": "code",
   "execution_count": 24,
   "metadata": {},
   "outputs": [
    {
     "data": {
      "image/png": "[encoded data removed]",
      "text/plain": [
       "<Figure size 1152x432 with 1 Axes>"
      ]
     },
     "metadata": {
      "needs_background": "light"
     },
     "output_type": "display_data"
    }
   ],
   "source": [
    "import matplotlib.pyplot as plt\n",
    "\n",
    "loss = history.history['loss']\n",
    "val_loss = history.history['val_loss']\n",
    "\n",
    "epochs = range(1, len(loss)+1)\n",
    "\n",
    "plt.figure(figsize=(16,6))\n",
    "plt.plot(epochs, loss, 'bo', label='Training loss')\n",
    "plt.plot(epochs, val_loss, 'b', label='Validation loss')\n",
    "plt.title('Training and validation loss')\n",
    "plt.legend()\n",
    "plt.show()"
   ]
  },
  {
   "cell_type": "markdown",
   "metadata": {},
   "source": [
    "### 드롭아웃으로 규제하고 스태킹한 GRU 모델을 훈련하고 평가하기"
   ]
  },
  {
   "cell_type": "code",
   "execution_count": 25,
   "metadata": {
    "scrolled": true
   },
   "outputs": [
    {
     "name": "stdout",
     "output_type": "stream",
     "text": [
      "Epoch 1/40\n",
      "500/500 [==============================] - 4s 8ms/step - loss: 0.3171 - val_loss: 0.1569\n",
      "Epoch 2/40\n",
      "500/500 [==============================] - 4s 7ms/step - loss: 0.2807 - val_loss: 0.1504\n",
      "Epoch 3/40\n",
      "500/500 [==============================] - 3s 7ms/step - loss: 0.2739 - val_loss: 0.1658\n",
      "Epoch 4/40\n",
      "500/500 [==============================] - 4s 7ms/step - loss: 0.2597 - val_loss: 0.1675\n",
      "Epoch 5/40\n",
      "500/500 [==============================] - 3s 7ms/step - loss: 0.2427 - val_loss: 0.1634\n",
      "Epoch 6/40\n",
      "500/500 [==============================] - 4s 7ms/step - loss: 0.2283 - val_loss: 0.1553\n",
      "Epoch 7/40\n",
      "500/500 [==============================] - 4s 7ms/step - loss: 0.2138 - val_loss: 0.1760\n",
      "Epoch 8/40\n",
      "500/500 [==============================] - 4s 7ms/step - loss: 0.2067 - val_loss: 0.1473\n",
      "Epoch 9/40\n",
      "500/500 [==============================] - 4s 7ms/step - loss: 0.1991 - val_loss: 0.1462\n",
      "Epoch 10/40\n",
      "500/500 [==============================] - 3s 7ms/step - loss: 0.1921 - val_loss: 0.1607\n",
      "Epoch 11/40\n",
      "500/500 [==============================] - 4s 7ms/step - loss: 0.1880 - val_loss: 0.1441\n",
      "Epoch 12/40\n",
      "500/500 [==============================] - 3s 7ms/step - loss: 0.1859 - val_loss: 0.1695\n",
      "Epoch 13/40\n",
      "500/500 [==============================] - 3s 7ms/step - loss: 0.1876 - val_loss: 0.1524\n",
      "Epoch 14/40\n",
      "500/500 [==============================] - 4s 7ms/step - loss: 0.1831 - val_loss: 0.1490\n",
      "Epoch 15/40\n",
      "500/500 [==============================] - 4s 7ms/step - loss: 0.1829 - val_loss: 0.1335\n",
      "Epoch 16/40\n",
      "500/500 [==============================] - 4s 7ms/step - loss: 0.1815 - val_loss: 0.1411\n",
      "Epoch 17/40\n",
      "500/500 [==============================] - 4s 7ms/step - loss: 0.1816 - val_loss: 0.1474\n",
      "Epoch 18/40\n",
      "500/500 [==============================] - 4s 7ms/step - loss: 0.1783 - val_loss: 0.1588\n",
      "Epoch 19/40\n",
      "500/500 [==============================] - 4s 7ms/step - loss: 0.1763 - val_loss: 0.1445\n",
      "Epoch 20/40\n",
      "500/500 [==============================] - 4s 7ms/step - loss: 0.1764 - val_loss: 0.1381\n",
      "Epoch 21/40\n",
      "500/500 [==============================] - 4s 7ms/step - loss: 0.1748 - val_loss: 0.1476\n",
      "Epoch 22/40\n",
      "500/500 [==============================] - 4s 7ms/step - loss: 0.1770 - val_loss: 0.1379\n",
      "Epoch 23/40\n",
      "500/500 [==============================] - 4s 7ms/step - loss: 0.1741 - val_loss: 0.1450\n",
      "Epoch 24/40\n",
      "500/500 [==============================] - 4s 7ms/step - loss: 0.1727 - val_loss: 0.1319\n",
      "Epoch 25/40\n",
      "500/500 [==============================] - 4s 7ms/step - loss: 0.1711 - val_loss: 0.1240\n",
      "Epoch 26/40\n",
      "500/500 [==============================] - 4s 8ms/step - loss: 0.1715 - val_loss: 0.1223\n",
      "Epoch 27/40\n",
      "500/500 [==============================] - 3s 7ms/step - loss: 0.1714 - val_loss: 0.1187\n",
      "Epoch 28/40\n",
      "500/500 [==============================] - 4s 7ms/step - loss: 0.1689 - val_loss: 0.1360\n",
      "Epoch 29/40\n",
      "500/500 [==============================] - 4s 7ms/step - loss: 0.1715 - val_loss: 0.1314\n",
      "Epoch 30/40\n",
      "500/500 [==============================] - 4s 7ms/step - loss: 0.1690 - val_loss: 0.1473\n",
      "Epoch 31/40\n",
      "500/500 [==============================] - 4s 7ms/step - loss: 0.1681 - val_loss: 0.1352\n",
      "Epoch 32/40\n",
      "500/500 [==============================] - 4s 7ms/step - loss: 0.1695 - val_loss: 0.1394\n",
      "Epoch 33/40\n",
      "500/500 [==============================] - 4s 7ms/step - loss: 0.1648 - val_loss: 0.1406\n",
      "Epoch 34/40\n",
      "500/500 [==============================] - 4s 7ms/step - loss: 0.1631 - val_loss: 0.1319\n",
      "Epoch 35/40\n",
      "500/500 [==============================] - 3s 7ms/step - loss: 0.1643 - val_loss: 0.1635\n",
      "Epoch 36/40\n",
      "500/500 [==============================] - 4s 7ms/step - loss: 0.1645 - val_loss: 0.1281\n",
      "Epoch 37/40\n",
      "500/500 [==============================] - 4s 7ms/step - loss: 0.1636 - val_loss: 0.1414\n",
      "Epoch 38/40\n",
      "500/500 [==============================] - 4s 7ms/step - loss: 0.1633 - val_loss: 0.1343\n",
      "Epoch 39/40\n",
      "500/500 [==============================] - 4s 7ms/step - loss: 0.1641 - val_loss: 0.1370\n",
      "Epoch 40/40\n",
      "500/500 [==============================] - 4s 7ms/step - loss: 0.1636 - val_loss: 0.1451\n"
     ]
    }
   ],
   "source": [
    "from keras.models import Sequential\n",
    "from keras import layers\n",
    "from keras.optimizers import RMSprop\n",
    "\n",
    "model = Sequential()\n",
    "model.add(layers.GRU(32, \n",
    "                     dropout=0.2,\n",
    "                     recurrent_dropout=0.2,\n",
    "                     input_shape=(None, data.shape[-1])))\n",
    "model.add(layers.Dense(1))\n",
    "model.compile(optimizer=RMSprop(), loss='mae')\n",
    "history = model.fit_generator(train_gen,\n",
    "                              steps_per_epoch=500,\n",
    "                              epochs=40,\n",
    "                              validation_data=val_gen,\n",
    "                              validation_steps=val_steps)"
   ]
  },
  {
   "cell_type": "code",
   "execution_count": 26,
   "metadata": {},
   "outputs": [
    {
     "data": {
      "image/png": "[encoded data removed]",
      "text/plain": [
       "<Figure size 1152x432 with 1 Axes>"
      ]
     },
     "metadata": {
      "needs_background": "light"
     },
     "output_type": "display_data"
    }
   ],
   "source": [
    "import matplotlib.pyplot as plt\n",
    "\n",
    "loss = history.history['loss']\n",
    "val_loss = history.history['val_loss']\n",
    "\n",
    "epochs = range(1, len(loss)+1)\n",
    "\n",
    "plt.figure(figsize=(16,6))\n",
    "plt.plot(epochs, loss, 'bo', label='Training loss')\n",
    "plt.plot(epochs, val_loss, 'b', label='Validation loss')\n",
    "plt.title('Training and validation loss')\n",
    "plt.legend()\n",
    "plt.show()"
   ]
  },
  {
   "cell_type": "markdown",
   "metadata": {},
   "source": [
    "### 거꾸로 된 시퀀스를 사용한 LSTM을 훈련하고 평가하기"
   ]
  },
  {
   "cell_type": "code",
   "execution_count": 27,
   "metadata": {},
   "outputs": [
    {
     "ename": "NameError",
     "evalue": "name 'float_data' is not defined",
     "output_type": "error",
     "traceback": [
      "\u001b[0;31m---------------------------------------------------------------------------\u001b[0m",
      "\u001b[0;31mNameError\u001b[0m                                 Traceback (most recent call last)",
      "\u001b[0;32m<ipython-input-27-36c34b4f3fb4>\u001b[0m in \u001b[0;36m<module>\u001b[0;34m\u001b[0m\n\u001b[1;32m     25\u001b[0m \u001b[0;34m\u001b[0m\u001b[0m\n\u001b[1;32m     26\u001b[0m train_gen_reverse = reverse_order_generator(\n\u001b[0;32m---> 27\u001b[0;31m     \u001b[0mfloat_data\u001b[0m\u001b[0;34m,\u001b[0m\u001b[0;34m\u001b[0m\u001b[0;34m\u001b[0m\u001b[0m\n\u001b[0m\u001b[1;32m     28\u001b[0m     \u001b[0mlookback\u001b[0m\u001b[0;34m=\u001b[0m\u001b[0mlookback\u001b[0m\u001b[0;34m,\u001b[0m\u001b[0;34m\u001b[0m\u001b[0;34m\u001b[0m\u001b[0m\n\u001b[1;32m     29\u001b[0m     \u001b[0mdelay\u001b[0m\u001b[0;34m=\u001b[0m\u001b[0mdelay\u001b[0m\u001b[0;34m,\u001b[0m\u001b[0;34m\u001b[0m\u001b[0;34m\u001b[0m\u001b[0m\n",
      "\u001b[0;31mNameError\u001b[0m: name 'float_data' is not defined"
     ]
    }
   ],
   "source": [
    "def reverse_order_generator(data, lookback, delay, min_index, max_index,\n",
    "                            shuffle=False, batch_size=128, step=6):\n",
    "    if max_index is None:\n",
    "        max_index = len(data) - delay - 1\n",
    "    i = min_index + lookback\n",
    "    while 1:\n",
    "        if shuffle:\n",
    "            rows = np.random.randint(\n",
    "                min_index + lookback, max_index, size=batch_size)\n",
    "        else:\n",
    "            if i + batch_size >= max_index:\n",
    "                i = min_index + lookback\n",
    "            rows = np.arange(i, min(i + batch_size, max_index))\n",
    "            i += len(rows)\n",
    "\n",
    "        samples = np.zeros((len(rows),\n",
    "                           lookback // step,\n",
    "                           data.shape[-1]))\n",
    "        targets = np.zeros((len(rows),))\n",
    "        for j, row in enumerate(rows):\n",
    "            indices = range(rows[j] - lookback, rows[j], step)\n",
    "            samples[j] = data[indices]\n",
    "            targets[j] = data[rows[j] + delay][1]\n",
    "        yield samples[:, ::-1, :], targets\n",
    "\n",
    "train_gen_reverse = reverse_order_generator(\n",
    "    data,\n",
    "    lookback=lookback,\n",
    "    delay=delay,\n",
    "    min_index=0,\n",
    "    max_index=200000,\n",
    "    shuffle=True,\n",
    "    step=step,\n",
    "    batch_size=batch_size)\n",
    "val_gen_reverse = reverse_order_generator(\n",
    "    data,\n",
    "    lookback=lookback,\n",
    "    delay=delay,\n",
    "    min_index=200001,\n",
    "    max_index=300000,\n",
    "    step=step,\n",
    "    batch_size=batch_size)\n",
    "\n",
    "model = Sequential()\n",
    "model.add(layers.GRU(32, input_shape=(None, data.shape[-1])))\n",
    "model.add(layers.Dense(1))\n",
    "\n",
    "model.compile(optimizer=RMSprop(), loss='mae')\n",
    "history = model.fit_generator(train_gen_reverse,\n",
    "                              steps_per_epoch=500,\n",
    "                              epochs=20,\n",
    "                              validation_data=val_gen_reverse,\n",
    "                              validation_steps=val_steps)"
   ]
  },
  {
   "cell_type": "code",
   "execution_count": null,
   "metadata": {},
   "outputs": [],
   "source": [
    "from keras.models import Sequential\n",
    "from keras import layers\n",
    "from keras.optimizers import RMSprop\n",
    "\n",
    "model = Sequential()\n",
    "model.add(layers.Bidirectional(\n",
    "    layers.GRU(32), input_shape=(None, data.shape[-1])))\n",
    "model.add(layers.Dense(1))\n",
    "\n",
    "model.compile(optimizer=RMSprop(), loss='mae')\n",
    "history = model.fit_generator(train_gen,\n",
    "                              steps_per_epoch=500,\n",
    "                              epochs=40,\n",
    "                              validation_data=val_gen,\n",
    "                              validation_steps=val_steps)"
   ]
  },
  {
   "cell_type": "code",
   "execution_count": null,
   "metadata": {},
   "outputs": [],
   "source": [
    "import matplotlib.pyplot as plt\n",
    "\n",
    "loss = history.history['loss']\n",
    "val_loss = history.history['val_loss']\n",
    "\n",
    "epochs = range(1, len(loss)+1)\n",
    "\n",
    "plt.figure(figsize=(16,6))\n",
    "plt.plot(epochs, loss, 'bo', label='Training loss')\n",
    "plt.plot(epochs, val_loss, 'b', label='Validation loss')\n",
    "plt.title('Training and validation loss')\n",
    "plt.legend()\n",
    "plt.show()"
   ]
  },
  {
   "cell_type": "markdown",
   "metadata": {},
   "source": [
    "### Test  결과"
   ]
  },
  {
   "cell_type": "code",
   "execution_count": null,
   "metadata": {},
   "outputs": [],
   "source": [
    "len(model.predict_generator(test_gen, steps=test_steps+1)*std[-1] + mean[-1])"
   ]
  },
  {
   "cell_type": "code",
   "execution_count": null,
   "metadata": {},
   "outputs": [],
   "source": [
    "import seaborn as sns\n",
    "result = pd.DataFrame(model.predict_generator(test_gen, steps=test_steps+1)*std[-1] + mean[-1])\n",
    "result.columns = ['pred']\n",
    "plt.figure(figsize=(20,8))\n",
    "sns.lineplot(data=result, palette=\"tab10\", linewidth=2.5)\n",
    "plt.show()"
   ]
  },
  {
   "cell_type": "code",
   "execution_count": null,
   "metadata": {},
   "outputs": [],
   "source": [
    "import pandas as pd\n",
    "data = pd.read_csv('../data/DAILY_DATA.csv')\n",
    "data = data.set_index('date')\n",
    "data = data.dropna(axis=1)\n",
    "plt.figure(figsize=(20,8))\n",
    "data['2019-02-01':'2020-01-31']['USD'].plot()\n",
    "plt.show()"
   ]
  }
 ],
 "metadata": {
  "kernelspec": {
   "display_name": "Python 3",
   "language": "python",
   "name": "python3"
  },
  "language_info": {
   "codemirror_mode": {
    "name": "ipython",
    "version": 3
   },
   "file_extension": ".py",
   "mimetype": "text/x-python",
   "name": "python",
   "nbconvert_exporter": "python",
   "pygments_lexer": "ipython3",
   "version": "3.6.8"
  }
 },
 "nbformat": 4,
 "nbformat_minor": 4
}
