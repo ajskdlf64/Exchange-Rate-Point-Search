{
 "cells": [
  {
   "cell_type": "markdown",
   "metadata": {},
   "source": [
    "### 01. Days"
   ]
  },
  {
   "cell_type": "code",
   "execution_count": 1,
   "metadata": {},
   "outputs": [],
   "source": [
    "train_start_days = ['2018-02-01','2018-03-01','2018-04-01','2018-05-01','2018-06-01','2018-07-01',\\\n",
    "                    '2018-08-01','2018-09-01','2018-10-01','2018-11-01','2018-12-01','2019-01-01']\n",
    "train_end_days = ['2019-01-31','2019-02-28','2019-03-31','2019-04-30','2019-05-31','2019-06-30',\\\n",
    "                  '2019-07-31','2019-08-31','2019-09-30','2019-10-31','2019-11-30','2019-12-31']\n",
    "test_start_days = ['2019-02-01','2019-03-01','2019-04-01','2019-05-01','2019-06-01','2019-07-01',\\\n",
    "                   '2019-08-01','2019-09-01','2019-10-01','2019-11-01','2019-12-01','2020-01-01']\n",
    "test_end_days = ['2019-02-28','2019-03-31','2019-04-30','2019-05-31','2019-06-30','2019-07-31',\\\n",
    "                 '2019-08-31','2019-09-30','2019-10-31','2019-11-30','2019-12-31','2020-01-31']"
   ]
  },
  {
   "cell_type": "markdown",
   "metadata": {},
   "source": [
    "### 02. Simulation"
   ]
  },
  {
   "cell_type": "code",
   "execution_count": 2,
   "metadata": {},
   "outputs": [
    {
     "name": "stdout",
     "output_type": "stream",
     "text": [
      "예측 구간 : 2019-02-01 ~ 2019-02-28     Accuracy : 50.00%\n",
      "예측 구간 : 2019-03-01 ~ 2019-03-31     Accuracy : 31.58%\n",
      "예측 구간 : 2019-04-01 ~ 2019-04-30     Accuracy : 52.38%\n",
      "예측 구간 : 2019-05-01 ~ 2019-05-31     Accuracy : 21.05%\n",
      "예측 구간 : 2019-06-01 ~ 2019-06-30     Accuracy : 55.56%\n",
      "예측 구간 : 2019-07-01 ~ 2019-07-31     Accuracy : 40.91%\n",
      "예측 구간 : 2019-08-01 ~ 2019-08-31     Accuracy : 55.00%\n",
      "예측 구간 : 2019-09-01 ~ 2019-09-30     Accuracy : 44.44%\n",
      "예측 구간 : 2019-10-01 ~ 2019-10-31     Accuracy : 45.00%\n",
      "예측 구간 : 2019-11-01 ~ 2019-11-30     Accuracy : 60.00%\n",
      "예측 구간 : 2019-12-01 ~ 2019-12-31     Accuracy : 35.00%\n",
      "예측 구간 : 2020-01-01 ~ 2020-01-31     Accuracy : 52.63%\n",
      "\n",
      "1년 평균 정확도 : 45.26%\n"
     ]
    }
   ],
   "source": [
    "acc = []\n",
    "test_obs = 0\n",
    "\n",
    "for step in range(12) : \n",
    "        \n",
    "    # 경고 메세지 안뜨게 하기\n",
    "    import warnings\n",
    "    warnings.filterwarnings(action='ignore') \n",
    "\n",
    "    # Dataset Loading\n",
    "    import pandas as pd\n",
    "    dataset = pd.read_csv('../data/er_data.csv')\n",
    "\n",
    "    # Dataset Columns\n",
    "    dataset.columns = ['DATE', 'CAD', 'CHF', 'EUR', 'GBP', 'JPY(100)', 'BITCOIN', 'TETHER', 'USD']\n",
    "\n",
    "    # Dataset Index\n",
    "    dataset = dataset.set_index('DATE')\n",
    "    \n",
    "    # Train Test Split\n",
    "    train = dataset[train_start_days[step]:train_end_days[step]]\n",
    "    test = dataset[test_start_days[step]:test_end_days[step]]\n",
    "\n",
    "    # Train (sliding Window)\n",
    "    train['USD_1'] = train['USD'].shift(-1)\n",
    "    train['Target'] = train['USD_1'] - train['USD']\n",
    "    train['Target'] = train['Target'].apply(lambda x : 'UP' if x > 0 else 'DOWN')\n",
    "    train = train.dropna()\n",
    "\n",
    "    # Test (sliding Window)\n",
    "    test['USD_1'] = test['USD'].shift(-1)\n",
    "    test['Target'] = test['USD_1'] - test['USD']\n",
    "    test['Target'] = test['Target'].apply(lambda x : 'UP' if x > 0 else 'DOWN')\n",
    "    test = test.dropna()\n",
    "\n",
    "    # Target, Input Split\n",
    "    train_input = train[['CAD', \"CHF\", \"EUR\", 'GBP', 'JPY(100)', 'BITCOIN', 'TETHER']]\n",
    "    train_target = train['Target']\n",
    "\n",
    "    test_input = test[['CAD', \"CHF\", \"EUR\", 'GBP', 'JPY(100)', 'BITCOIN', 'TETHER']]\n",
    "    test_target = test['Target']\n",
    "\n",
    "    # Transform to Numpy Array\n",
    "    import numpy as np\n",
    "    train = np.array(train)\n",
    "    test = np.array(test)\n",
    "\n",
    "    # Data Normalization\n",
    "    mean = train_input.mean(axis=0)\n",
    "    train_input -= mean\n",
    "    std = train_input.std(axis=0)\n",
    "    train_input /= std\n",
    "    test_input -= mean\n",
    "    test_input /= std\n",
    "    \n",
    "    # PCA\n",
    "    from sklearn.decomposition import PCA\n",
    "    pca = PCA(n_components = 3)\n",
    "    principalComponents_train = pca.fit_transform(train_input)\n",
    "    principalComponents_test = pca.transform(test_input)\n",
    "    train_input = pd.DataFrame(data = principalComponents_train,\\\n",
    "                               columns = ['principal component 1','principal component 2',\\\n",
    "                                          'principal component 3'])\n",
    "    test_input = pd.DataFrame(data = principalComponents_test,\\\n",
    "                              columns = ['principal component 1', 'principal component 2',\\\n",
    "                                         'principal component 3'])\n",
    "    \n",
    "    # XGBoost\n",
    "    from xgboost import XGBClassifier\n",
    "    model = XGBClassifier(booster='gbtree', \n",
    "                          colsample_bylevel=0.9, \n",
    "                          colsample_bytree=0.8, \n",
    "                          gamma=0, \n",
    "                          max_depth=8, \n",
    "                          min_child_weight=3, \n",
    "                          n_estimators=50, \n",
    "                          nthread=4, \n",
    "                          objective='binary:logistic', \n",
    "                          random_state=2, \n",
    "                          silent= True)\n",
    "\n",
    "    model.fit(train_input,train_target, eval_set=[(train_input, train_target)], early_stopping_rounds=50,verbose=0)\n",
    "    from sklearn.metrics import accuracy_score\n",
    "    y_pred = model.predict(test_input)\n",
    "    y_true = test_target\n",
    "    test_obs += len(test_input)\n",
    "    acc.append(accuracy_score(y_true, y_pred)*100*len(test_input))\n",
    "    \n",
    "    print('예측 구간 : {} ~ {}     Accuracy : {:.2f}%' .format(test_start_days[step], test_end_days[step],\\\n",
    "                                                               accuracy_score(y_true, y_pred)*100))\n",
    "    \n",
    "# 최종 1년 정확도\n",
    "print('\\n1년 평균 정확도 : {:.2f}%' .format(np.sum(acc) / test_obs))"
   ]
  }
 ],
 "metadata": {
  "kernelspec": {
   "display_name": "Python 3",
   "language": "python",
   "name": "python3"
  },
  "language_info": {
   "codemirror_mode": {
    "name": "ipython",
    "version": 3
   },
   "file_extension": ".py",
   "mimetype": "text/x-python",
   "name": "python",
   "nbconvert_exporter": "python",
   "pygments_lexer": "ipython3",
   "version": "3.6.8"
  }
 },
 "nbformat": 4,
 "nbformat_minor": 4
}
